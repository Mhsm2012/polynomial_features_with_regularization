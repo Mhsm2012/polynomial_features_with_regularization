{
  "cells": [
    {
      "cell_type": "markdown",
      "metadata": {
        "id": "view-in-github",
        "colab_type": "text"
      },
      "source": [
        "<a href=\"https://colab.research.google.com/github/Mhsm2012/polynomial_features_with_regularization/blob/main/Regularization.ipynb\" target=\"_parent\"><img src=\"https://colab.research.google.com/assets/colab-badge.svg\" alt=\"Open In Colab\"/></a>"
      ]
    },
    {
      "cell_type": "markdown",
      "metadata": {
        "id": "PmfTrgjIk8w7"
      },
      "source": [
        "# Machine Learning Foundation\n",
        "\n",
        "## Section 2, Part e: Regularization LAB "
      ]
    },
    {
      "cell_type": "markdown",
      "metadata": {
        "id": "eDZyThEBk8w-"
      },
      "source": [
        "## Learning objectives\n",
        "\n",
        "By the end of this lesson, you will be able to:\n",
        "\n",
        "* Implement data standardization\n",
        "* Implement variants of regularized regression\n",
        "* Combine data standardization with the train-test split procedure\n",
        "* Implement regularization to prevent overfitting in regression problems"
      ]
    },
    {
      "cell_type": "code",
      "execution_count": 4,
      "metadata": {
        "colab": {
          "base_uri": "https://localhost:8080/",
          "height": 393
        },
        "id": "Xwti8kBhk8xB",
        "outputId": "df1cce20-d04e-4523-afa8-9ab2b225cf2a"
      },
      "outputs": [
        {
          "output_type": "error",
          "ename": "ImportError",
          "evalue": "ignored",
          "traceback": [
            "\u001b[0;31m---------------------------------------------------------------------------\u001b[0m",
            "\u001b[0;31mImportError\u001b[0m                               Traceback (most recent call last)",
            "\u001b[0;32m<ipython-input-4-a79d0012ae05>\u001b[0m in \u001b[0;36m<module>\u001b[0;34m()\u001b[0m\n\u001b[1;32m      1\u001b[0m \u001b[0;32mimport\u001b[0m \u001b[0mnumpy\u001b[0m \u001b[0;32mas\u001b[0m \u001b[0mnp\u001b[0m\u001b[0;34m\u001b[0m\u001b[0;34m\u001b[0m\u001b[0m\n\u001b[1;32m      2\u001b[0m \u001b[0;32mimport\u001b[0m \u001b[0mpandas\u001b[0m \u001b[0;32mas\u001b[0m \u001b[0mpd\u001b[0m\u001b[0;34m\u001b[0m\u001b[0;34m\u001b[0m\u001b[0m\n\u001b[0;32m----> 3\u001b[0;31m \u001b[0;32mfrom\u001b[0m \u001b[0mhelper\u001b[0m \u001b[0;32mimport\u001b[0m \u001b[0mboston_dataframe\u001b[0m\u001b[0;34m\u001b[0m\u001b[0;34m\u001b[0m\u001b[0m\n\u001b[0m\u001b[1;32m      4\u001b[0m \u001b[0;34m\u001b[0m\u001b[0m\n\u001b[1;32m      5\u001b[0m \u001b[0mnp\u001b[0m\u001b[0;34m.\u001b[0m\u001b[0mset_printoptions\u001b[0m\u001b[0;34m(\u001b[0m\u001b[0mprecision\u001b[0m\u001b[0;34m=\u001b[0m\u001b[0;36m3\u001b[0m\u001b[0;34m,\u001b[0m \u001b[0msuppress\u001b[0m\u001b[0;34m=\u001b[0m\u001b[0;32mTrue\u001b[0m\u001b[0;34m)\u001b[0m\u001b[0;34m\u001b[0m\u001b[0;34m\u001b[0m\u001b[0m\n",
            "\u001b[0;31mImportError\u001b[0m: cannot import name 'boston_dataframe' from 'helper' (unknown location)",
            "",
            "\u001b[0;31m---------------------------------------------------------------------------\u001b[0;32m\nNOTE: If your import is failing due to a missing package, you can\nmanually install dependencies using either !pip or !apt.\n\nTo view examples of installing some common dependencies, click the\n\"Open Examples\" button below.\n\u001b[0;31m---------------------------------------------------------------------------\u001b[0m\n"
          ],
          "errorDetails": {
            "actions": [
              {
                "action": "open_url",
                "actionText": "Open Examples",
                "url": "/notebooks/snippets/importing_libraries.ipynb"
              }
            ]
          }
        }
      ],
      "source": [
        "import numpy as np\n",
        "import pandas as pd\n",
        "from helper import boston_dataframe\n",
        "\n",
        "np.set_printoptions(precision=3, suppress=True)"
      ]
    },
    {
      "cell_type": "markdown",
      "metadata": {
        "id": "RFsuy_Eqk8xC"
      },
      "source": [
        "### Loading in Boston Data"
      ]
    },
    {
      "cell_type": "markdown",
      "metadata": {
        "id": "FFHnsApjk8xD"
      },
      "source": [
        "**Note:** See `helper.py` file to see how boston data is read in from SciKit Learn."
      ]
    },
    {
      "cell_type": "code",
      "execution_count": null,
      "metadata": {
        "id": "hxAkhcy8k8xD"
      },
      "outputs": [],
      "source": [
        "boston = boston_dataframe(description=True)\n",
        "boston_data = boston[0]\n",
        "boston_description = boston[1]"
      ]
    },
    {
      "cell_type": "markdown",
      "metadata": {
        "id": "qZf0cKPCk8xE"
      },
      "source": [
        "## Data standardization"
      ]
    },
    {
      "cell_type": "markdown",
      "metadata": {
        "id": "2Pq-65iik8xF"
      },
      "source": [
        "**Standardizing** data refers to transforming each variable so that it more closely follows a **standard** normal distribution, with mean 0 and standard deviation 1.\n",
        "\n",
        "The [`StandardScaler`](http://scikit-learn.org/dev/modules/generated/sklearn.preprocessing.StandardScaler.html#sklearn.preprocessing.StandardScaler) object in SciKit Learn can do this."
      ]
    },
    {
      "cell_type": "markdown",
      "metadata": {
        "id": "6PfFJCKkk8xG"
      },
      "source": [
        "**Generate X and y**:"
      ]
    },
    {
      "cell_type": "code",
      "execution_count": null,
      "metadata": {
        "id": "pe1NO1U-k8xI"
      },
      "outputs": [],
      "source": [
        "y_col = \"MEDV\"\n",
        "\n",
        "X = boston_data.drop(y_col, axis=1)\n",
        "y = boston_data[y_col]"
      ]
    },
    {
      "cell_type": "markdown",
      "metadata": {
        "id": "KDSnnhcBk8xJ"
      },
      "source": [
        "**Import, fit, and transform using `StandardScaler`**"
      ]
    },
    {
      "cell_type": "code",
      "execution_count": null,
      "metadata": {
        "id": "omNT2MvEk8xJ"
      },
      "outputs": [],
      "source": [
        "from sklearn.preprocessing import StandardScaler\n",
        "\n",
        "s = StandardScaler()\n",
        "X_ss = s.fit_transform(X)"
      ]
    },
    {
      "cell_type": "markdown",
      "metadata": {
        "id": "P3uJlIpsk8xK"
      },
      "source": [
        "### Exercise: \n",
        "\n",
        "Confirm standard scaling"
      ]
    },
    {
      "cell_type": "markdown",
      "metadata": {
        "id": "ZRBG0HSDk8xK"
      },
      "source": [
        "Hint:"
      ]
    },
    {
      "cell_type": "code",
      "execution_count": null,
      "metadata": {
        "id": "JnLZSvnIk8xK"
      },
      "outputs": [],
      "source": [
        "a = np.array([[1, 2, 3], \n",
        "              [4, 5, 6]]) \n",
        "print(a) # 2 rows, 3 columns"
      ]
    },
    {
      "cell_type": "code",
      "execution_count": null,
      "metadata": {
        "id": "hr5DyCcUk8xL"
      },
      "outputs": [],
      "source": [
        "a.mean(axis=0) # mean along the *columns*"
      ]
    },
    {
      "cell_type": "code",
      "execution_count": null,
      "metadata": {
        "id": "myQ46UgIk8xL"
      },
      "outputs": [],
      "source": [
        "a.mean(axis=1) # mean along the *rows*"
      ]
    },
    {
      "cell_type": "code",
      "execution_count": null,
      "metadata": {
        "id": "i3fvR8BIk8xM"
      },
      "outputs": [],
      "source": [
        "### BEGIN SOLUTION\n",
        "X2 = np.array(X)\n",
        "man_transform = (X2-X2.mean(axis=0))/X2.std(axis=0)\n",
        "np.allclose(man_transform, X_ss)\n",
        "### END SOLUTION"
      ]
    },
    {
      "cell_type": "markdown",
      "metadata": {
        "id": "sJXX642uk8xM"
      },
      "source": [
        "### Coefficients with and without scaling"
      ]
    },
    {
      "cell_type": "code",
      "execution_count": 5,
      "metadata": {
        "id": "hicKw-uWk8xM"
      },
      "outputs": [],
      "source": [
        "from sklearn.linear_model import LinearRegression"
      ]
    },
    {
      "cell_type": "code",
      "execution_count": 6,
      "metadata": {
        "colab": {
          "base_uri": "https://localhost:8080/",
          "height": 227
        },
        "id": "MM1EATL-k8xN",
        "outputId": "5705c3a9-74ec-43b8-9f90-f3d42f06e753"
      },
      "outputs": [
        {
          "output_type": "error",
          "ename": "NameError",
          "evalue": "ignored",
          "traceback": [
            "\u001b[0;31m---------------------------------------------------------------------------\u001b[0m",
            "\u001b[0;31mNameError\u001b[0m                                 Traceback (most recent call last)",
            "\u001b[0;32m<ipython-input-6-a597f17403d2>\u001b[0m in \u001b[0;36m<module>\u001b[0;34m()\u001b[0m\n\u001b[1;32m      3\u001b[0m \u001b[0my_col\u001b[0m \u001b[0;34m=\u001b[0m \u001b[0;34m\"MEDV\"\u001b[0m\u001b[0;34m\u001b[0m\u001b[0;34m\u001b[0m\u001b[0m\n\u001b[1;32m      4\u001b[0m \u001b[0;34m\u001b[0m\u001b[0m\n\u001b[0;32m----> 5\u001b[0;31m \u001b[0mX\u001b[0m \u001b[0;34m=\u001b[0m \u001b[0mboston_data\u001b[0m\u001b[0;34m.\u001b[0m\u001b[0mdrop\u001b[0m\u001b[0;34m(\u001b[0m\u001b[0my_col\u001b[0m\u001b[0;34m,\u001b[0m \u001b[0maxis\u001b[0m\u001b[0;34m=\u001b[0m\u001b[0;36m1\u001b[0m\u001b[0;34m)\u001b[0m\u001b[0;34m\u001b[0m\u001b[0;34m\u001b[0m\u001b[0m\n\u001b[0m\u001b[1;32m      6\u001b[0m \u001b[0my\u001b[0m \u001b[0;34m=\u001b[0m \u001b[0mboston_data\u001b[0m\u001b[0;34m[\u001b[0m\u001b[0my_col\u001b[0m\u001b[0;34m]\u001b[0m\u001b[0;34m\u001b[0m\u001b[0;34m\u001b[0m\u001b[0m\n",
            "\u001b[0;31mNameError\u001b[0m: name 'boston_data' is not defined"
          ]
        }
      ],
      "source": [
        "lr = LinearRegression()\n",
        "\n",
        "y_col = \"MEDV\"\n",
        "\n",
        "X = boston_data.drop(y_col, axis=1)\n",
        "y = boston_data[y_col]"
      ]
    },
    {
      "cell_type": "code",
      "execution_count": null,
      "metadata": {
        "id": "8zCrtm6xk8xN"
      },
      "outputs": [],
      "source": [
        "lr.fit(X, y)\n",
        "print(lr.coef_) # min = -18"
      ]
    },
    {
      "cell_type": "markdown",
      "metadata": {
        "id": "JR08h7ybk8xN"
      },
      "source": [
        "#### Discussion (together): \n",
        "\n",
        "The coefficients are on widely different scales. Is this \"bad\"?"
      ]
    },
    {
      "cell_type": "code",
      "execution_count": null,
      "metadata": {
        "id": "F2XRHcpNk8xO"
      },
      "outputs": [],
      "source": [
        "from sklearn.preprocessing import StandardScaler"
      ]
    },
    {
      "cell_type": "code",
      "execution_count": null,
      "metadata": {
        "id": "XP_SVp7nk8xO"
      },
      "outputs": [],
      "source": [
        "s = StandardScaler()\n",
        "X_ss = s.fit_transform(X)"
      ]
    },
    {
      "cell_type": "code",
      "execution_count": null,
      "metadata": {
        "id": "uL0mE72Hk8xO"
      },
      "outputs": [],
      "source": [
        "lr2 = LinearRegression()\n",
        "lr2.fit(X_ss, y)\n",
        "print(lr2.coef_) # coefficients now \"on the same scale\""
      ]
    },
    {
      "cell_type": "markdown",
      "metadata": {
        "id": "Aj2p5cUak8xP"
      },
      "source": [
        "### Exercise: \n",
        "\n",
        "Based on these results, what is the most \"impactful\" feature (this is intended to be slightly ambiguous)? \"In what direction\" does it affect \"y\"?\n",
        "\n",
        "**Hint:** Recall from last week that we can \"zip up\" the names of the features of a DataFrame `df` with a model `model` fitted on that DataFrame using:\n",
        "\n",
        "```python\n",
        "dict(zip(df.columns.values, model.coef_))\n",
        "```"
      ]
    },
    {
      "cell_type": "code",
      "execution_count": null,
      "metadata": {
        "id": "T8LwEDUBk8xP"
      },
      "outputs": [],
      "source": [
        "### BEGIN SOLUTION\n",
        "pd.DataFrame(zip(X.columns, lr2.coef_)).sort_values(by=1)\n",
        "### END SOLUTION"
      ]
    },
    {
      "cell_type": "markdown",
      "metadata": {
        "id": "9FXCJNnVk8xP"
      },
      "source": [
        "Looking just at the strength of the standardized coefficients LSTAT, DIS, RM and RAD are all the 'most impactful'. Sklearn does not have built in statistical signifigance of each of these variables which would aid in making this claim stronger/weaker"
      ]
    },
    {
      "cell_type": "markdown",
      "metadata": {
        "id": "elxvwtWNk8xQ"
      },
      "source": [
        "### Lasso with and without scaling"
      ]
    },
    {
      "cell_type": "markdown",
      "metadata": {
        "id": "955vHugwk8xQ"
      },
      "source": [
        "We discussed Lasso in lecture. \n",
        "\n",
        "Let's review together:\n",
        "\n",
        "1. What is different about Lasso vs. regular Linear Regression?\n",
        "1. Is standardization more or less important with Lasso vs. Linear Regression? Why?"
      ]
    },
    {
      "cell_type": "code",
      "execution_count": null,
      "metadata": {
        "id": "JyelEXNjk8xQ"
      },
      "outputs": [],
      "source": [
        "from sklearn.linear_model import Lasso\n",
        "from sklearn.preprocessing import PolynomialFeatures"
      ]
    },
    {
      "cell_type": "markdown",
      "metadata": {
        "id": "Bun5jYdHk8xQ"
      },
      "source": [
        "#### Create polynomial features"
      ]
    },
    {
      "cell_type": "markdown",
      "metadata": {
        "id": "RsI-MIeUk8xQ"
      },
      "source": [
        "[`PolynomialFeatures`](http://scikit-learn.org/stable/modules/generated/sklearn.preprocessing.PolynomialFeatures.html)"
      ]
    },
    {
      "cell_type": "code",
      "execution_count": null,
      "metadata": {
        "id": "nf-pnC7_k8xR"
      },
      "outputs": [],
      "source": [
        "pf = PolynomialFeatures(degree=2, include_bias=False,)\n",
        "X_pf = pf.fit_transform(X)"
      ]
    },
    {
      "cell_type": "markdown",
      "metadata": {
        "id": "T-Rh-fmek8xR"
      },
      "source": [
        "**Note:** We use `include_bias=False` since `Lasso` includes a bias by default."
      ]
    },
    {
      "cell_type": "code",
      "execution_count": null,
      "metadata": {
        "id": "Jr0rkRRCk8xR"
      },
      "outputs": [],
      "source": [
        "X_pf_ss = s.fit_transform(X_pf)"
      ]
    },
    {
      "cell_type": "markdown",
      "metadata": {
        "id": "aStUaZA3k8xS"
      },
      "source": [
        "### Lasso"
      ]
    },
    {
      "cell_type": "markdown",
      "metadata": {
        "id": "sKXwmdquk8xS"
      },
      "source": [
        "[`Lasso` documentation](http://scikit-learn.org/stable/modules/generated/sklearn.linear_model.Lasso.html)"
      ]
    },
    {
      "cell_type": "code",
      "execution_count": null,
      "metadata": {
        "id": "zN_tVBHhk8xS"
      },
      "outputs": [],
      "source": [
        "las = Lasso()\n",
        "las.fit(X_pf_ss, y)\n",
        "las.coef_ "
      ]
    },
    {
      "cell_type": "markdown",
      "metadata": {
        "id": "czz9104fk8xS"
      },
      "source": [
        "### Exercise\n",
        "\n",
        "Compare \n",
        "\n",
        "* Sum of magnitudes of the coefficients\n",
        "* Number of coefficients that are zero\n",
        "\n",
        "for Lasso with alpha 0.1 vs. 1.\n",
        "\n",
        "Before doing the exercise, answer the following questions in one sentence each:\n",
        "\n",
        "* Which do you expect to have greater magnitude?\n",
        "* Which do you expect to have more zeros?"
      ]
    },
    {
      "cell_type": "code",
      "execution_count": null,
      "metadata": {
        "id": "TdJLDZBzk8xT"
      },
      "outputs": [],
      "source": [
        "### BEGIN SOLUTION\n",
        "las01 = Lasso(alpha = 0.1)\n",
        "las01.fit(X_pf_ss, y)\n",
        "print('sum of coefficients:', abs(las01.coef_).sum() )\n",
        "print('number of coefficients not equal to 0:', (las01.coef_!=0).sum())"
      ]
    },
    {
      "cell_type": "code",
      "execution_count": null,
      "metadata": {
        "id": "I7LCM3sGk8xT"
      },
      "outputs": [],
      "source": [
        "las1 = Lasso(alpha = 1)\n",
        "las1.fit(X_pf_ss, y)\n",
        "print('sum of coefficients:',abs(las1.coef_).sum() )\n",
        "print('number of coefficients not equal to 0:',(las1.coef_!=0).sum())\n",
        "### END SOLUTION"
      ]
    },
    {
      "cell_type": "markdown",
      "metadata": {
        "id": "abDamMXRk8xT"
      },
      "source": [
        "With more regularization (higher alpha) we will expect the penalty for higher weights to be greater and thus the coefficients to be pushed down. Thus a higher alpha means lower magnitude with more coefficients pushed down to 0."
      ]
    },
    {
      "cell_type": "markdown",
      "metadata": {
        "id": "IgDTCpJsk8xT"
      },
      "source": [
        "### Exercise: $R^2$"
      ]
    },
    {
      "cell_type": "markdown",
      "metadata": {
        "id": "CCWA21-hk8xT"
      },
      "source": [
        "Calculate the $R^2$ of each model without train/test split.\n",
        "\n",
        "Recall that we import $R^2$ using:\n",
        "\n",
        "```python\n",
        "from sklearn.metrics import r2_score\n",
        "```"
      ]
    },
    {
      "cell_type": "code",
      "execution_count": null,
      "metadata": {
        "id": "TKLPGniPk8xU"
      },
      "outputs": [],
      "source": [
        "### BEGIN SOLUTION\n",
        "from sklearn.metrics import r2_score\n",
        "r2_score(y,las.predict(X_pf_ss))\n",
        "### END SOLUTION"
      ]
    },
    {
      "cell_type": "markdown",
      "metadata": {
        "id": "cB2bww20k8xU"
      },
      "source": [
        "#### Discuss:\n",
        "\n",
        "Will regularization ever increase model performance if we evaluate on the same dataset that we trained on?"
      ]
    },
    {
      "cell_type": "markdown",
      "metadata": {
        "id": "-k_xwty2k8xU"
      },
      "source": [
        "## With train/test split"
      ]
    },
    {
      "cell_type": "markdown",
      "metadata": {
        "id": "37pcNmE1k8xU"
      },
      "source": [
        "#### Discuss\n",
        "\n",
        "Are there any issues with what we've done so far?\n",
        "\n",
        "**Hint:** Think about the way we have done feature scaling.\n",
        "\n",
        "Discuss in groups of two or three."
      ]
    },
    {
      "cell_type": "code",
      "execution_count": null,
      "metadata": {
        "id": "SLnvR1FOk8xU"
      },
      "outputs": [],
      "source": [
        "from sklearn.model_selection import train_test_split"
      ]
    },
    {
      "cell_type": "code",
      "execution_count": null,
      "metadata": {
        "id": "nByhQcSpk8xU"
      },
      "outputs": [],
      "source": [
        "X_train, X_test, y_train, y_test = train_test_split(X_pf, y, test_size=0.3, \n",
        "                                                    random_state=72018)"
      ]
    },
    {
      "cell_type": "code",
      "execution_count": null,
      "metadata": {
        "id": "enHGyne1k8xV"
      },
      "outputs": [],
      "source": [
        "X_train_s = s.fit_transform(X_train)\n",
        "las.fit(X_train_s, y_train)\n",
        "X_test_s = s.transform(X_test)\n",
        "y_pred = las.predict(X_test_s)\n",
        "r2_score(y_pred, y_test)"
      ]
    },
    {
      "cell_type": "code",
      "execution_count": null,
      "metadata": {
        "id": "fAhObnh1k8xV"
      },
      "outputs": [],
      "source": [
        "X_train_s = s.fit_transform(X_train)\n",
        "las01.fit(X_train_s, y_train)\n",
        "X_test_s = s.transform(X_test)\n",
        "y_pred = las01.predict(X_test_s)\n",
        "r2_score(y_pred, y_test)"
      ]
    },
    {
      "cell_type": "markdown",
      "metadata": {
        "id": "GrDKmwg5k8xV"
      },
      "source": [
        "### Exercise\n",
        "\n",
        "\n",
        "#### Part 1:\n",
        "\n",
        "Do the same thing with Lasso of:\n",
        "\n",
        "* `alpha` of 0.001\n",
        "* Increase `max_iter` to 100000 to ensure convergence. \n",
        "\n",
        "Calculate the $R^2$ of the model.\n",
        "\n",
        "Feel free to copy-paste code from above, but write a one sentence comment above each line of code explaining why you're doing what you're doing.\n",
        "\n",
        "#### Part 2:\n",
        "\n",
        "Do the same procedure as before, but with Linear Regression.\n",
        "\n",
        "Calculate the $R^2$ of this model.\n",
        "\n",
        "#### Part 3: \n",
        "\n",
        "Compare the sums of the absolute values of the coefficients for both models, as well as the number of coefficients that are zero. Based on these measures, which model is a \"simpler\" description of the relationship between the features and the target?"
      ]
    },
    {
      "cell_type": "code",
      "execution_count": null,
      "metadata": {
        "id": "ITnf4obEk8xV"
      },
      "outputs": [],
      "source": [
        "### BEGIN SOLUTION\n",
        "\n",
        "# Part 1\n",
        "\n",
        "# Decreasing regularization and ensuring convergence\n",
        "las001 = Lasso(alpha = 0.001, max_iter=100000)\n",
        "\n",
        "# Transforming training set to get standardized units\n",
        "X_train_s = s.fit_transform(X_train)\n",
        "\n",
        "# Fitting model to training set\n",
        "las001.fit(X_train_s, y_train)\n",
        "\n",
        "# Transforming test set using the parameters defined from training set\n",
        "X_test_s = s.transform(X_test)\n",
        "\n",
        "# Finding prediction on test set\n",
        "y_pred = las001.predict(X_test_s)\n",
        "\n",
        "# Calculating r2 score\n",
        "print(\"r2 score for alpha = 0.001:\", r2_score(y_pred, y_test))\n",
        "\n",
        "\n",
        "# Part 2\n",
        "\n",
        "# Using vanilla Linear Regression\n",
        "lr = LinearRegression()\n",
        "\n",
        "# Fitting model to training set\n",
        "lr.fit(X_train_s, y_train)\n",
        "\n",
        "# predicting on test set\n",
        "y_pred_lr = lr.predict(X_test_s)\n",
        "\n",
        "# Calculating r2 score\n",
        "print(\"r2 score for Linear Regression:\", r2_score(y_pred_lr, y_test))\n",
        "\n",
        "\n",
        "# Part 3\n",
        "print('Magnitude of Lasso coefficients:', abs(las001.coef_).sum())\n",
        "print('Number of coeffients not equal to 0 for Lasso:', (las001.coef_!=0).sum())\n",
        "\n",
        "print('Magnitude of Linear Regression coefficients:', abs(lr.coef_).sum())\n",
        "print('Number of coeffients not equal to 0 for Linear Regression:', (lr.coef_!=0).sum())\n",
        "### END SOLUTION"
      ]
    },
    {
      "cell_type": "markdown",
      "metadata": {
        "id": "4fQuMdprk8xW"
      },
      "source": [
        "## L1 vs. L2 Regularization"
      ]
    },
    {
      "cell_type": "markdown",
      "metadata": {
        "id": "Lx8bXS35k8xW"
      },
      "source": [
        "As mentioned in the deck: `Lasso` and `Ridge` regression have the same syntax in SciKit Learn.\n",
        "\n",
        "Now we're going to compare the results from Ridge vs. Lasso regression:"
      ]
    },
    {
      "cell_type": "markdown",
      "metadata": {
        "id": "D9RALXJbk8xW"
      },
      "source": [
        "[`Ridge`](http://scikit-learn.org/stable/modules/generated/sklearn.linear_model.Ridge.html)"
      ]
    },
    {
      "cell_type": "code",
      "execution_count": null,
      "metadata": {
        "id": "Tzwa0xa2k8xW"
      },
      "outputs": [],
      "source": [
        "from sklearn.linear_model import Ridge"
      ]
    },
    {
      "cell_type": "markdown",
      "metadata": {
        "id": "CICUmsX7k8xX"
      },
      "source": [
        "### Exercise\n",
        "\n",
        "Following the Ridge documentation from above:\n",
        "\n",
        "1. Define a Ridge object `r` with the same `alpha` as `las001`.\n",
        "2. Fit that object on `X` and `y` and print out the resulting coefficients."
      ]
    },
    {
      "cell_type": "code",
      "execution_count": null,
      "metadata": {
        "id": "3PdrexjQk8xX"
      },
      "outputs": [],
      "source": [
        "### BEGIN SOLUTION\n",
        "# Decreasing regularization and ensuring convergence\n",
        "r = Ridge(alpha = 0.001)\n",
        "X_train_s = s.fit_transform(X_train)\n",
        "r.fit(X_train_s, y_train)\n",
        "X_test_s = s.transform(X_test)\n",
        "y_pred_r = r.predict(X_test_s)\n",
        "\n",
        "# Calculating r2 score\n",
        "r.coef_\n",
        "### END SOLUTION"
      ]
    },
    {
      "cell_type": "code",
      "execution_count": null,
      "metadata": {
        "scrolled": true,
        "id": "vGrjhsZ1k8xX"
      },
      "outputs": [],
      "source": [
        "las001 # same alpha as Ridge above"
      ]
    },
    {
      "cell_type": "code",
      "execution_count": null,
      "metadata": {
        "id": "ALTnRvtzk8xX"
      },
      "outputs": [],
      "source": [
        "las001.coef_"
      ]
    },
    {
      "cell_type": "code",
      "execution_count": null,
      "metadata": {
        "id": "cxidf4_ck8xX"
      },
      "outputs": [],
      "source": [
        "print(np.sum(np.abs(r.coef_)))\n",
        "print(np.sum(np.abs(las001.coef_)))\n",
        "\n",
        "print(np.sum(r.coef_ != 0))\n",
        "print(np.sum(las001.coef_ != 0))"
      ]
    },
    {
      "cell_type": "markdown",
      "metadata": {
        "id": "hSmpT77kk8xY"
      },
      "source": [
        "**Conclusion:** Ridge does not make any coefficients 0. In addition, on this particular dataset, Lasso provides stronger overall regularization than Ridge for this value of `alpha` (not necessarily true in general)."
      ]
    },
    {
      "cell_type": "code",
      "execution_count": null,
      "metadata": {
        "id": "cRTTr6ddk8xY"
      },
      "outputs": [],
      "source": [
        "y_pred = r.predict(X_pf_ss)\n",
        "print(r2_score(y, y_pred))\n",
        "\n",
        "y_pred = las001.predict(X_pf_ss)\n",
        "print(r2_score(y, y_pred))"
      ]
    },
    {
      "cell_type": "markdown",
      "metadata": {
        "id": "Y5NJsNc9k8xY"
      },
      "source": [
        "**Conclusion**: Ignoring issues of overfitting, Ridge does slightly better than Lasso when `alpha` is set to 0.001 for each (not necessarily true in general)."
      ]
    },
    {
      "cell_type": "markdown",
      "metadata": {
        "id": "uesJfC4sk8xZ"
      },
      "source": [
        "# Example: Does it matter when you scale?"
      ]
    },
    {
      "cell_type": "code",
      "execution_count": null,
      "metadata": {
        "id": "DaLp4ydek8xZ"
      },
      "outputs": [],
      "source": [
        "X_train, X_test, y_train, y_test = train_test_split(X_ss, y, test_size=0.3, \n",
        "                                                    random_state=72018)"
      ]
    },
    {
      "cell_type": "code",
      "execution_count": null,
      "metadata": {
        "id": "mnOWpzogk8xZ"
      },
      "outputs": [],
      "source": [
        "lr = LinearRegression()\n",
        "lr.fit(X_train, y_train)\n",
        "y_pred = lr.predict(X_test)\n",
        "r2_score(y_pred, y_test)"
      ]
    },
    {
      "cell_type": "code",
      "execution_count": null,
      "metadata": {
        "id": "ic8scqGxk8xZ"
      },
      "outputs": [],
      "source": [
        "X_train, X_test, y_train, y_test = train_test_split(X, y, test_size=0.3, \n",
        "                                                    random_state=72018)"
      ]
    },
    {
      "cell_type": "code",
      "execution_count": null,
      "metadata": {
        "id": "flqpuf9Ck8xZ"
      },
      "outputs": [],
      "source": [
        "s = StandardScaler()\n",
        "lr_s = LinearRegression()\n",
        "X_train_s = s.fit_transform(X_train)\n",
        "lr_s.fit(X_train_s, y_train)\n",
        "X_test_s = s.transform(X_test)\n",
        "y_pred_s = lr_s.predict(X_test_s)\n",
        "r2_score(y_pred_s, y_test)"
      ]
    },
    {
      "cell_type": "markdown",
      "metadata": {
        "id": "QFh9Wcgpk8xZ"
      },
      "source": [
        "**Conclusion:** It doesn't matter whether you scale before or afterwards, in terms of the raw predictions, for Linear Regression. However, it matters for other algorithms. Plus, as we'll see later, we can make scaling part of a `Pipeline`."
      ]
    },
    {
      "cell_type": "markdown",
      "metadata": {
        "id": "6f67L-4ek8xa"
      },
      "source": [
        "---\n",
        "### Machine Learning Foundation (C) 2020 IBM Corporation"
      ]
    }
  ],
  "metadata": {
    "kernelspec": {
      "display_name": "Python 3",
      "language": "python",
      "name": "python3"
    },
    "language_info": {
      "codemirror_mode": {
        "name": "ipython",
        "version": 3
      },
      "file_extension": ".py",
      "mimetype": "text/x-python",
      "name": "python",
      "nbconvert_exporter": "python",
      "pygments_lexer": "ipython3",
      "version": "3.7.6"
    },
    "colab": {
      "name": "Regularization.ipynb",
      "provenance": [],
      "include_colab_link": true
    }
  },
  "nbformat": 4,
  "nbformat_minor": 0
}